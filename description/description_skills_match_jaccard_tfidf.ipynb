{
 "cells": [
  {
   "cell_type": "markdown",
   "id": "530df508-24b1-4acf-8bdc-8810a38a76d0",
   "metadata": {},
   "source": [
    "**(Job description texts) x (ESCO skill dictionary) similiarity matrix using TF-IDF & Jaccard similarity**\n",
    "\n",
    "By: PodiPeti"
   ]
  },
  {
   "cell_type": "code",
   "execution_count": 27,
   "metadata": {},
   "outputs": [],
   "source": [
    "import pandas as pd\n",
    "from sklearn.feature_extraction.text import TfidfVectorizer\n",
    "from sklearn.metrics import jaccard_score\n",
    "import numpy as np"
   ]
  },
  {
   "cell_type": "markdown",
   "metadata": {},
   "source": [
    "INPUT"
   ]
  },
  {
   "cell_type": "code",
   "execution_count": 28,
   "metadata": {},
   "outputs": [],
   "source": [
    "df = pd.read_csv('input/preprocessed_jobs_all.csv')\n",
    "preprocessed_descriptions = df['description']\n",
    "\n",
    "df_esco = pd.read_csv('input/prep_esco_skill_dictionary.csv')\n",
    "esco_skills = df_esco['skills']\n",
    "\n",
    "# Initialize TfidfVectorizer outside the function\n",
    "vectorizer = TfidfVectorizer()\n",
    "\n",
    "# TEST\n",
    "#skills = [\"Software Development\", \"Public fucking Speaking\", \"Critical Thinking\", \"Project Management\", \"Creative Design\"]\n",
    "#descriptions = [\"Description of software projects\", \"Techniques in public speaking\", \"Approaches to critical thinking\", \"Fundamentals of project management\", \"Elements of creative design\"]\n"
   ]
  },
  {
   "cell_type": "markdown",
   "metadata": {},
   "source": [
    "CALCULATE JACCARD SIMILARITY"
   ]
  },
  {
   "cell_type": "code",
   "execution_count": 29,
   "metadata": {},
   "outputs": [],
   "source": [
    "def calculate_jaccard_similarity(text1, text2, vectorizer):\n",
    "    tfidf_matrix = vectorizer.transform([text1, text2])\n",
    "    tfidf_array = tfidf_matrix.toarray()\n",
    "    \n",
    "    return jaccard_score(tfidf_array[0] > 0, tfidf_array[1] > 0)"
   ]
  },
  {
   "cell_type": "markdown",
   "metadata": {},
   "source": []
  },
  {
   "cell_type": "code",
   "execution_count": 30,
   "metadata": {},
   "outputs": [],
   "source": [
    "# Create a TF-IDF vectorizer for the dictionary phrases\n",
    "dictionary_vectorizer = TfidfVectorizer()\n",
    "dictionary_tfidf_matrix = dictionary_vectorizer.fit_transform(esco_skills)\n",
    "\n",
    "# Create an empty matrix with zeros\n",
    "similarity_matrix = np.zeros((len(preprocessed_descriptions), len(esco_skills)))\n",
    "\n",
    "# Calculate Jaccard similarities\n",
    "for i, description in enumerate(preprocessed_descriptions):\n",
    "    for j, skill in enumerate(esco_skills):\n",
    "        similarity = calculate_jaccard_similarity(description, skill, dictionary_vectorizer)\n",
    "        similarity_matrix[i][j] = similarity\n",
    "\n",
    "# Convert the matrix to a DataFrame for better readability\n",
    "similarity_df = pd.DataFrame(similarity_matrix, columns=esco_skills, index=df['title'])\n"
   ]
  },
  {
   "cell_type": "code",
   "execution_count": 31,
   "metadata": {},
   "outputs": [],
   "source": [
    "similarity_df.to_excel('tfidf_jaccard_similarity_matrix.xlsx')"
   ]
  }
 ],
 "metadata": {
  "kernelspec": {
   "display_name": "Python 3 (ipykernel)",
   "language": "python",
   "name": "python3"
  },
  "language_info": {
   "codemirror_mode": {
    "name": "ipython",
    "version": 3
   },
   "file_extension": ".py",
   "mimetype": "text/x-python",
   "name": "python",
   "nbconvert_exporter": "python",
   "pygments_lexer": "ipython3",
   "version": "3.11.5"
  }
 },
 "nbformat": 4,
 "nbformat_minor": 5
}
