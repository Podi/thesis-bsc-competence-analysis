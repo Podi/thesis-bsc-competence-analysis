{
 "cells": [
  {
   "cell_type": "markdown",
   "metadata": {},
   "source": [
    "**Job description n-gram frequency**\n",
    "\n",
    "By: PodiPeti"
   ]
  },
  {
   "cell_type": "code",
   "execution_count": 6,
   "metadata": {},
   "outputs": [],
   "source": [
    "import pandas as pd\n",
    "import json\n",
    "from collections import Counter\n",
    "from nltk import bigrams, trigrams\n",
    "from itertools import chain"
   ]
  },
  {
   "cell_type": "markdown",
   "id": "e6b8f1ba-48ca-4c95-a96a-4b0c0af5f190",
   "metadata": {},
   "source": [
    "INPUT"
   ]
  },
  {
   "cell_type": "code",
   "execution_count": 7,
   "id": "43133f4b-6aab-445a-80dc-7dc13083dfe1",
   "metadata": {},
   "outputs": [],
   "source": [
    "df = pd.read_csv('input/preprocessed_jobs_all.csv')                 # tokenized, lemmatized, replaced, filtered\n",
    "\n",
    "with open('input/style.json', 'r') as json_file:\n",
    "    style = json.load(json_file)"
   ]
  },
  {
   "cell_type": "markdown",
   "metadata": {},
   "source": [
    "GENERATING N-GRAMS"
   ]
  },
  {
   "cell_type": "code",
   "execution_count": 8,
   "metadata": {},
   "outputs": [],
   "source": [
    "def get_ngrams(description, n):\n",
    "    if n == 1:\n",
    "        return [word for title in description for word in title.split()]\n",
    "    elif n == 2:\n",
    "        return list(chain.from_iterable(bigrams(title.split()) for title in description))\n",
    "    elif n == 3:\n",
    "        return list(chain.from_iterable(trigrams(title.split()) for title in description))\n",
    "    else:\n",
    "        raise ValueError(\"n should be 1, 2, 3\")\n",
    "    \n"
   ]
  },
  {
   "cell_type": "markdown",
   "metadata": {},
   "source": [
    "SAVE TO EXCEL"
   ]
  },
  {
   "cell_type": "code",
   "execution_count": 9,
   "metadata": {},
   "outputs": [],
   "source": [
    "def save_excel(frequencies, ngram_type, excel_writer):\n",
    "    df = pd.DataFrame(frequencies.items(), columns=[ngram_type, 'Frequency'])\n",
    "    if ngram_type != 'unigram':\n",
    "        df[ngram_type] = df[ngram_type].apply(lambda x: ' '.join(x))\n",
    "    df.sort_values(by='Frequency', ascending=False, inplace=True)\n",
    "    df.to_excel(excel_writer, sheet_name=f'{ngram_type}', index=False)"
   ]
  },
  {
   "cell_type": "markdown",
   "metadata": {},
   "source": [
    "PROCESS AND CALL FUNCTIONS"
   ]
  },
  {
   "cell_type": "code",
   "execution_count": 10,
   "id": "a0efcd16-6be9-459b-9600-ebdecde613f7",
   "metadata": {},
   "outputs": [],
   "source": [
    "excel_file = pd.ExcelWriter('output/data/description_freq_ngrams_all.xlsx', engine='xlsxwriter')\n",
    "\n",
    "for ngram_type, n in [('unigram', 1), ('bigram', 2), ('trigram', 3)]:\n",
    "    ngrams = get_ngrams(df['description'], n)\n",
    "    ngram_freq = Counter(ngrams)\n",
    "\n",
    "    ngram_freq = {gram: freq for gram, freq in ngram_freq.items() if freq >= 50}\n",
    "\n",
    "    # Save frequencies to Excel\n",
    "    save_excel(ngram_freq, ngram_type, excel_file)\n",
    "\n",
    "excel_file.close()"
   ]
  }
 ],
 "metadata": {
  "kernelspec": {
   "display_name": "Python 3 (ipykernel)",
   "language": "python",
   "name": "python3"
  },
  "language_info": {
   "codemirror_mode": {
    "name": "ipython",
    "version": 3
   },
   "file_extension": ".py",
   "mimetype": "text/x-python",
   "name": "python",
   "nbconvert_exporter": "python",
   "pygments_lexer": "ipython3",
   "version": "3.11.5"
  }
 },
 "nbformat": 4,
 "nbformat_minor": 5
}
