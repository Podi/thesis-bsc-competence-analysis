{
 "cells": [
  {
   "cell_type": "markdown",
   "metadata": {},
   "source": [
    "**Description n-gram frequency & tf-idf**\n",
    "\n",
    "By: PodiPeti"
   ]
  },
  {
   "cell_type": "code",
   "execution_count": 31,
   "metadata": {},
   "outputs": [],
   "source": [
    "import pandas as pd\n",
    "from collections import Counter\n",
    "from nltk import bigrams, trigrams\n",
    "from itertools import chain\n",
    "from sklearn.feature_extraction.text import TfidfVectorizer\n",
    "import numpy as np"
   ]
  },
  {
   "cell_type": "markdown",
   "id": "e6b8f1ba-48ca-4c95-a96a-4b0c0af5f190",
   "metadata": {},
   "source": [
    "INPUT"
   ]
  },
  {
   "cell_type": "code",
   "execution_count": 32,
   "id": "43133f4b-6aab-445a-80dc-7dc13083dfe1",
   "metadata": {},
   "outputs": [],
   "source": [
    "df = pd.read_csv('input/preprocessed_jobs_all.csv')                 # tokenized, lemmatized, replaced, filtered"
   ]
  },
  {
   "cell_type": "markdown",
   "metadata": {},
   "source": [
    "GENERATING N-GRAMS"
   ]
  },
  {
   "cell_type": "code",
   "execution_count": 33,
   "metadata": {},
   "outputs": [],
   "source": [
    "def get_ngrams(description, n):\n",
    "    if n == 1:\n",
    "        return [word for title in description for word in title.split()]\n",
    "    elif n == 2:\n",
    "        return list(chain.from_iterable(bigrams(title.split()) for title in description))\n",
    "    elif n == 3:\n",
    "        return list(chain.from_iterable(trigrams(title.split()) for title in description))\n",
    "    else:\n",
    "        raise ValueError(\"n should be 1, 2, 3\")\n",
    "    \n"
   ]
  },
  {
   "cell_type": "markdown",
   "metadata": {},
   "source": [
    "TF-IDF & SAVE TO EXCEL"
   ]
  },
  {
   "cell_type": "code",
   "execution_count": 34,
   "metadata": {},
   "outputs": [],
   "source": [
    "def save_tfidf_and_freq_to_excel(descriptions, ngram_type, n, excel_writer, level):\n",
    "    # Create a TfidfVectorizer\n",
    "    vectorizer = TfidfVectorizer(analyzer='word', ngram_range=(n, n))\n",
    "    \n",
    "    tfidf_matrix = vectorizer.fit_transform(descriptions)\n",
    "    feature_names = vectorizer.get_feature_names_out()\n",
    "\n",
    "    # frequencies\n",
    "    ngrams = get_ngrams(descriptions, n)\n",
    "    freqs = Counter(ngrams)\n",
    "\n",
    "    # Sum the TF-IDF scores for each n-gram across all documents\n",
    "    summed_tfidf = np.sum(tfidf_matrix, axis=0)\n",
    "    scores = []\n",
    "    for word, idx in vectorizer.vocabulary_.items():\n",
    "        word_ngram = tuple(word.split()) if n > 1 else word\n",
    "        freq = freqs[word_ngram]\n",
    "        score = summed_tfidf[0, idx]\n",
    "        scores.append((word, score, freq))\n",
    "    \n",
    "    # Create a DataFrame, sort, and take top 50\n",
    "    df = pd.DataFrame(scores, columns=[ngram_type, 'TF-IDF Score', 'Frequency'])\n",
    "    df.sort_values(by='TF-IDF Score', ascending=False, inplace=True)\n",
    "    top_50_df = df.head(50)  # Get the top 50 rows\n",
    "    top_50_df.to_excel(excel_writer, sheet_name=f'{ngram_type}_top_50_tfidf_freq', index=False)"
   ]
  },
  {
   "cell_type": "markdown",
   "metadata": {},
   "source": [
    "PROCESS AND CALL FUNCTIONS"
   ]
  },
  {
   "cell_type": "code",
   "execution_count": 35,
   "id": "a0efcd16-6be9-459b-9600-ebdecde613f7",
   "metadata": {},
   "outputs": [],
   "source": [
    "unique_levels = df['level'].unique()\n",
    "for level in unique_levels:\n",
    "    level_df = df[df['level'] == level]\n",
    "    excel_file_path = f'output/data/{level}_description_top_50_ngrams_tfidf_freq.xlsx'\n",
    "    with pd.ExcelWriter(excel_file_path, engine='xlsxwriter') as excel_file:\n",
    "        for ngram_type, n in [('unigram', 1), ('bigram', 2), ('trigram', 3)]:\n",
    "            save_tfidf_and_freq_to_excel(level_df['description'], ngram_type, n, excel_file, level)"
   ]
  }
 ],
 "metadata": {
  "kernelspec": {
   "display_name": "Python 3 (ipykernel)",
   "language": "python",
   "name": "python3"
  },
  "language_info": {
   "codemirror_mode": {
    "name": "ipython",
    "version": 3
   },
   "file_extension": ".py",
   "mimetype": "text/x-python",
   "name": "python",
   "nbconvert_exporter": "python",
   "pygments_lexer": "ipython3",
   "version": "3.11.5"
  }
 },
 "nbformat": 4,
 "nbformat_minor": 5
}
