{
 "cells": [
  {
   "cell_type": "markdown",
   "id": "8790793c",
   "metadata": {},
   "source": [
    "**Job description dictionary frequency TF-IDF**\n",
    "\n",
    "By: PodiPeti"
   ]
  },
  {
   "cell_type": "code",
   "execution_count": 143,
   "id": "530df508-24b1-4acf-8bdc-8810a38a76d0",
   "metadata": {},
   "outputs": [],
   "source": [
    "import pandas as pd\n",
    "import json\n",
    "from nltk import pos_tag\n",
    "from nltk.tokenize import word_tokenize\n",
    "from sklearn.feature_extraction.text import TfidfVectorizer"
   ]
  },
  {
   "cell_type": "code",
   "execution_count": 144,
   "metadata": {},
   "outputs": [],
   "source": [
    "def preprocess_phrases(text, phrases):\n",
    "    for phrase in phrases:\n",
    "        text = text.replace(phrase, phrase.replace(' ', '_'))\n",
    "    return text"
   ]
  },
  {
   "cell_type": "code",
   "execution_count": 145,
   "metadata": {},
   "outputs": [],
   "source": [
    "def filter_by_pos_with_keywords(text, tags_to_keep, keyword_set):\n",
    "    tokenized = word_tokenize(text)\n",
    "    tagged = pos_tag(tokenized)\n",
    "    # Retain words if they are in keywords\n",
    "    return \" \".join([word for word, tag in tagged if tag in tags_to_keep or word in keyword_set])"
   ]
  },
  {
   "cell_type": "code",
   "execution_count": 146,
   "metadata": {},
   "outputs": [],
   "source": [
    "# to handle multiple word long keywords\n",
    "def custom_tokenizer(text, keyword_set):\n",
    "    tokens = word_tokenize(text)\n",
    "    processed_tokens = []\n",
    "    for token in tokens:\n",
    "        if token in keyword_set:\n",
    "            processed_tokens.append(token)\n",
    "        else:\n",
    "            # Split and check for multi-word phrases\n",
    "            for keyword in keyword_set:\n",
    "                if ' ' in keyword and keyword in text:\n",
    "                    processed_tokens.append(keyword.replace(' ', '_'))\n",
    "                    text = text.replace(keyword, '')  # avoid duplication\n",
    "    return processed_tokens"
   ]
  },
  {
   "cell_type": "code",
   "execution_count": 147,
   "metadata": {},
   "outputs": [],
   "source": [
    "def calculate_tfidf(df, keywords):\n",
    "    vectorizer = TfidfVectorizer(vocabulary=keywords, ngram_range=(1, 3))  \n",
    "\n",
    "    # Fit and transform the descriptions\n",
    "    tfidf_matrix = vectorizer.fit_transform(df['description'])\n",
    "    tfidf_matrix = tfidf_matrix.transpose()\n",
    "\n",
    "    # Calculate scores\n",
    "    tfidf_scores = tfidf_matrix.sum(axis=1).A1\n",
    "    frequencies = (tfidf_matrix > 0).sum(axis=1).A1\n",
    "\n",
    "    result_df = pd.DataFrame({\n",
    "        'frequency': frequencies,\n",
    "        'tf-idf score': tfidf_scores\n",
    "    }, index=vectorizer.get_feature_names_out())\n",
    "\n",
    "    result_df = result_df.sort_values(by='tf-idf score', ascending=False)\n",
    "\n",
    "    return result_df"
   ]
  },
  {
   "cell_type": "markdown",
   "id": "e6b8f1ba-48ca-4c95-a96a-4b0c0af5f190",
   "metadata": {},
   "source": [
    "INPUT"
   ]
  },
  {
   "cell_type": "code",
   "execution_count": 148,
   "id": "43133f4b-6aab-445a-80dc-7dc13083dfe1",
   "metadata": {},
   "outputs": [],
   "source": [
    "df = pd.read_csv('input/preprocessed_jobs_all.csv')\n",
    "tags_to_keep = ['NN', 'NNS', 'NNP', 'NNPS']\n",
    "\n",
    "with open('keywords/coding_keywords.json', 'r') as file:\n",
    "    data = json.load(file)\n",
    "    coding_keywords = data['languages']\n",
    "coding_df = calculate_tfidf(df, coding_keywords)\n",
    "\n",
    "with open('keywords/softwares_keywords.json', 'r') as file:\n",
    "    data = json.load(file)\n",
    "    softwares_keywords = data['softwares']\n",
    "softwares_df = calculate_tfidf(df, softwares_keywords)"
   ]
  },
  {
   "cell_type": "markdown",
   "metadata": {},
   "source": [
    "OUTPUT"
   ]
  },
  {
   "cell_type": "code",
   "execution_count": 149,
   "metadata": {},
   "outputs": [],
   "source": [
    "with pd.ExcelWriter('output/data/keyword_analysis.xlsx') as writer:\n",
    "    coding_df.to_excel(writer, sheet_name='Coding Keywords')\n",
    "    softwares_df.to_excel(writer, sheet_name='Software Keywords')"
   ]
  }
 ],
 "metadata": {
  "kernelspec": {
   "display_name": "Python 3 (ipykernel)",
   "language": "python",
   "name": "python3"
  },
  "language_info": {
   "codemirror_mode": {
    "name": "ipython",
    "version": 3
   },
   "file_extension": ".py",
   "mimetype": "text/x-python",
   "name": "python",
   "nbconvert_exporter": "python",
   "pygments_lexer": "ipython3",
   "version": "3.11.5"
  }
 },
 "nbformat": 4,
 "nbformat_minor": 5
}
