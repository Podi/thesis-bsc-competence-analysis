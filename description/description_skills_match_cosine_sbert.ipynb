{
 "cells": [
  {
   "cell_type": "markdown",
   "id": "530df508-24b1-4acf-8bdc-8810a38a76d0",
   "metadata": {},
   "source": [
    "**(Job description texts) x (ESCO skill dictionary) similiarity matrix using S-BERT embeddings & Cosine similarity**\n",
    "\n",
    "By: PodiPeti"
   ]
  },
  {
   "cell_type": "code",
   "execution_count": 11,
   "metadata": {},
   "outputs": [],
   "source": [
    "from sentence_transformers import SentenceTransformer, util\n",
    "import pandas as pd\n",
    "from nltk.util import ngrams"
   ]
  },
  {
   "cell_type": "markdown",
   "metadata": {},
   "source": [
    "INPUT"
   ]
  },
  {
   "cell_type": "code",
   "execution_count": 12,
   "metadata": {},
   "outputs": [],
   "source": [
    "# Load model\n",
    "model = SentenceTransformer('all-MiniLM-L6-v2')\n",
    "\n",
    "# Load data\n",
    "job_df = pd.read_csv('input/preprocessed_jobs_mini.csv')  \n",
    "dict_df = pd.read_csv('input/prep_esco_skill_dictionary.csv') \n",
    "\n",
    "# Prepare data\n",
    "descriptions = job_df['description'].fillna('').astype(str)\n",
    "skills = dict_df['skills'].fillna('').astype(str)\n",
    "\n",
    "# TEST\n",
    "#skills = [\"Software Development\", \"Public Speaking\", \"Critical Thinking\", \"Project Management\", \"Creative Design\"]\n",
    "#descriptions = [\"Description of software projects\", \"Techniques in public speaking\", \"Approaches to critical thinking\", \"Fundamentals of project management\", \"Elements of creative design\"]\n"
   ]
  },
  {
   "cell_type": "markdown",
   "metadata": {},
   "source": [
    "N-GRAMS"
   ]
  },
  {
   "cell_type": "code",
   "execution_count": 13,
   "metadata": {},
   "outputs": [],
   "source": [
    "# Function to create ngrams\n",
    "def create_ngrams(sentence, n):\n",
    "    words = sentence.split()\n",
    "    return [' '.join(gram) for gram in ngrams(words, n)]"
   ]
  },
  {
   "cell_type": "markdown",
   "metadata": {},
   "source": [
    "SIMILARITY MATRIX"
   ]
  },
  {
   "cell_type": "code",
   "execution_count": 14,
   "metadata": {},
   "outputs": [],
   "source": [
    "# Compute embeddings for all skills at once\n",
    "skills_embeddings = model.encode(skills, convert_to_tensor=True)\n",
    "\n",
    "# Create a DataFrame to store cosine similarities\n",
    "cosine_similarity_df = pd.DataFrame(index=skills, columns=descriptions)\n",
    "\n",
    "# Iterate through each skill and description, calculate cosine similarities\n",
    "for skill_index, skill_embedding in enumerate(skills_embeddings):\n",
    "    skill = skills[skill_index]\n",
    "    n = len(skill.split())\n",
    "\n",
    "    all_description_ngrams = []\n",
    "    description_ranges = []\n",
    "\n",
    "    for description in descriptions:\n",
    "        description_ngrams = create_ngrams(description, n)\n",
    "\n",
    "        # Skip encoding if no n-grams are generated\n",
    "        if not description_ngrams:\n",
    "            continue\n",
    "\n",
    "        all_description_ngrams.extend(description_ngrams)\n",
    "        description_ranges.append((description, len(description_ngrams)))\n",
    "\n",
    "    # Encode all ngrams at once\n",
    "    all_description_ngrams_embeddings = model.encode(all_description_ngrams, convert_to_tensor=True)\n",
    "\n",
    "    start = 0\n",
    "    for description, length in description_ranges:\n",
    "        end = start + length\n",
    "        description_embeddings = all_description_ngrams_embeddings[start:end]\n",
    "\n",
    "        # Calculate cosine similarity\n",
    "        cosine_scores = util.pytorch_cos_sim(skill_embedding, description_embeddings)\n",
    "        max_cosine_score = cosine_scores.max().item()\n",
    "\n",
    "        cosine_similarity_df.at[skill, description] = max_cosine_score\n",
    "        start = end\n",
    "\n"
   ]
  },
  {
   "cell_type": "markdown",
   "metadata": {},
   "source": [
    "OUTPUT"
   ]
  },
  {
   "cell_type": "code",
   "execution_count": 15,
   "metadata": {},
   "outputs": [],
   "source": [
    "cosine_similarity_df.to_excel(\"figures/data/similarity_matrix_cosine_sbert.xlsx\")"
   ]
  }
 ],
 "metadata": {
  "kernelspec": {
   "display_name": "Python 3 (ipykernel)",
   "language": "python",
   "name": "python3"
  },
  "language_info": {
   "codemirror_mode": {
    "name": "ipython",
    "version": 3
   },
   "file_extension": ".py",
   "mimetype": "text/x-python",
   "name": "python",
   "nbconvert_exporter": "python",
   "pygments_lexer": "ipython3",
   "version": "3.11.5"
  }
 },
 "nbformat": 4,
 "nbformat_minor": 5
}
